{
  "nbformat": 4,
  "nbformat_minor": 0,
  "metadata": {
    "colab": {
      "provenance": []
    },
    "kernelspec": {
      "name": "ir",
      "display_name": "R"
    },
    "language_info": {
      "name": "R"
    }
  },
  "cells": [
    {
      "cell_type": "markdown",
      "source": [
        "# Econometria Aplicada\n",
        "\n",
        "## Aula 4 - Variáveis Instrumentais\n",
        "\n",
        "\n"
      ],
      "metadata": {
        "id": "HQnNo0C0HdkL"
      }
    },
    {
      "cell_type": "markdown",
      "source": [
        "João Ricardo Costa Filho \\\\\n",
        "[joaocostafilho.com](https://)"
      ],
      "metadata": {
        "id": "nPR8EWNkHvA0"
      }
    },
    {
      "cell_type": "markdown",
      "source": [
        "## Variáveis intrumentais"
      ],
      "metadata": {
        "id": "7DSqmy1-xJct"
      }
    },
    {
      "cell_type": "markdown",
      "source": [
        "**Motivação**: \\\\\n",
        "\n",
        " Como estimar uma curva de demanda? Esta aplicação foi inspirada no texto [\"Supply, Demand, and the Instrumental Variable: Lessons for Data Scientists from the Economist’s Toolbox\"](https://towardsdatascience.com/supply-demand-and-the-instrumental-variable-lessons-for-data-scientists-from-the-economists-21af225187cd), utiliza dados de Epple e McCallum (2006), e nos exercícios propostos por Glenn Ellison and Stephen Ryan [.Aqui](https://ocw.mit.edu/courses/14-271-industrial-organization-i-fall-2005/pages/assignments/). \\\n",
        " \\\n",
        "\n",
        " Epple, D., & McCallum, B. T. (2006). Simultaneous equation econometrics: the missing example. Economic Inquiry, 44(2), 374-384."
      ],
      "metadata": {
        "id": "jnitRNmF9vIR"
      }
    },
    {
      "cell_type": "markdown",
      "source": [
        "### Pacotes"
      ],
      "metadata": {
        "id": "TGGFq6gQHzOE"
      }
    },
    {
      "cell_type": "code",
      "source": [
        "install.packages(\"broom\")"
      ],
      "metadata": {
        "colab": {
          "base_uri": "https://localhost:8080/"
        },
        "id": "SJnPzFKmPxN2",
        "outputId": "ca224de8-3ad5-44b5-fa81-e45dfd92751f"
      },
      "execution_count": 1,
      "outputs": [
        {
          "output_type": "stream",
          "name": "stderr",
          "text": [
            "Installing package into ‘/usr/local/lib/R/site-library’\n",
            "(as ‘lib’ is unspecified)\n",
            "\n"
          ]
        }
      ]
    },
    {
      "cell_type": "code",
      "source": [
        "library(broom)"
      ],
      "metadata": {
        "id": "32-XFOAePxQd"
      },
      "execution_count": 3,
      "outputs": []
    },
    {
      "cell_type": "markdown",
      "source": [
        "### Dados"
      ],
      "metadata": {
        "id": "G8z-E89COXzp"
      }
    },
    {
      "cell_type": "code",
      "source": [
        "url <- \"https://github.com/costafilhojoao/Teaching/raw/main/Econometria%20Aplicada/Dados/broiler.csv\"\n",
        "\n",
        "download.file(url, \"broiler.csv\")"
      ],
      "metadata": {
        "id": "oKjnzP4QODZA"
      },
      "execution_count": 4,
      "outputs": []
    },
    {
      "cell_type": "code",
      "source": [
        "dat <- read.csv(\"broiler.csv\")"
      ],
      "metadata": {
        "id": "YSM7ayHVvRHS"
      },
      "execution_count": 5,
      "outputs": []
    },
    {
      "cell_type": "markdown",
      "source": [
        "Veja os primeiros 10 elementos da base de dados:"
      ],
      "metadata": {
        "id": "VYbkOkPy0zlj"
      }
    },
    {
      "cell_type": "code",
      "source": [
        "head(dat,10)"
      ],
      "metadata": {
        "id": "spSN3LySTBU5",
        "outputId": "4e3a8ee0-1a3c-4c1e-bff6-f61f68bed148",
        "colab": {
          "base_uri": "https://localhost:8080/",
          "height": 412
        }
      },
      "execution_count": 12,
      "outputs": [
        {
          "output_type": "display_data",
          "data": {
            "text/html": [
              "<table class=\"dataframe\">\n",
              "<caption>A data.frame: 10 × 12</caption>\n",
              "<thead>\n",
              "\t<tr><th></th><th scope=col>YEAR</th><th scope=col>Q</th><th scope=col>Y</th><th scope=col>PCHICK</th><th scope=col>PBEEF</th><th scope=col>PCOR</th><th scope=col>PF</th><th scope=col>CPI</th><th scope=col>QPRODA</th><th scope=col>POP</th><th scope=col>MEATEX</th><th scope=col>TIME</th></tr>\n",
              "\t<tr><th></th><th scope=col>&lt;int&gt;</th><th scope=col>&lt;dbl&gt;</th><th scope=col>&lt;int&gt;</th><th scope=col>&lt;dbl&gt;</th><th scope=col>&lt;dbl&gt;</th><th scope=col>&lt;dbl&gt;</th><th scope=col>&lt;dbl&gt;</th><th scope=col>&lt;dbl&gt;</th><th scope=col>&lt;int&gt;</th><th scope=col>&lt;dbl&gt;</th><th scope=col>&lt;int&gt;</th><th scope=col>&lt;int&gt;</th></tr>\n",
              "</thead>\n",
              "<tbody>\n",
              "\t<tr><th scope=row>1</th><td>1960</td><td>19.2</td><td> 9210</td><td>52.4</td><td>33.5</td><td>46.0</td><td>51.53361</td><td>29.6</td><td>4333602</td><td>180.671</td><td>50</td><td>51</td></tr>\n",
              "\t<tr><th scope=row>2</th><td>1961</td><td>20.6</td><td> 9361</td><td>47.4</td><td>33.0</td><td>45.1</td><td>51.86824</td><td>29.9</td><td>4944130</td><td>183.691</td><td>49</td><td>52</td></tr>\n",
              "\t<tr><th scope=row>3</th><td>1962</td><td>20.6</td><td> 9666</td><td>50.0</td><td>34.2</td><td>44.8</td><td>52.09133</td><td>30.2</td><td>4997189</td><td>186.538</td><td>46</td><td>53</td></tr>\n",
              "\t<tr><th scope=row>4</th><td>1963</td><td>21.1</td><td> 9886</td><td>49.3</td><td>33.8</td><td>49.8</td><td>50.97588</td><td>30.6</td><td>5269019</td><td>189.242</td><td>80</td><td>54</td></tr>\n",
              "\t<tr><th scope=row>5</th><td>1964</td><td>21.3</td><td>10456</td><td>48.2</td><td>32.8</td><td>49.9</td><td>50.75279</td><td>31.0</td><td>5443769</td><td>191.889</td><td>78</td><td>55</td></tr>\n",
              "\t<tr><th scope=row>6</th><td>1965</td><td>22.9</td><td>10965</td><td>49.8</td><td>34.4</td><td>51.8</td><td>50.97588</td><td>31.5</td><td>5871560</td><td>194.303</td><td>49</td><td>56</td></tr>\n",
              "\t<tr><th scope=row>7</th><td>1966</td><td>24.5</td><td>11417</td><td>52.7</td><td>36.2</td><td>54.5</td><td>52.48173</td><td>32.4</td><td>6437127</td><td>196.560</td><td>44</td><td>57</td></tr>\n",
              "\t<tr><th scope=row>8</th><td>1967</td><td>25.1</td><td>11776</td><td>48.8</td><td>36.4</td><td>51.7</td><td>51.86824</td><td>33.4</td><td>6552305</td><td>198.712</td><td>45</td><td>58</td></tr>\n",
              "\t<tr><th scope=row>9</th><td>1968</td><td>25.2</td><td>12196</td><td>51.2</td><td>37.9</td><td>45.5</td><td>49.52580</td><td>34.8</td><td>6653319</td><td>200.706</td><td>59</td><td>59</td></tr>\n",
              "\t<tr><th scope=row>10</th><td>1969</td><td>26.3</td><td>12451</td><td>54.1</td><td>41.7</td><td>49.3</td><td>50.36239</td><td>36.7</td><td>7174882</td><td>202.677</td><td>87</td><td>60</td></tr>\n",
              "</tbody>\n",
              "</table>\n"
            ],
            "text/markdown": "\nA data.frame: 10 × 12\n\n| <!--/--> | YEAR &lt;int&gt; | Q &lt;dbl&gt; | Y &lt;int&gt; | PCHICK &lt;dbl&gt; | PBEEF &lt;dbl&gt; | PCOR &lt;dbl&gt; | PF &lt;dbl&gt; | CPI &lt;dbl&gt; | QPRODA &lt;int&gt; | POP &lt;dbl&gt; | MEATEX &lt;int&gt; | TIME &lt;int&gt; |\n|---|---|---|---|---|---|---|---|---|---|---|---|---|\n| 1 | 1960 | 19.2 |  9210 | 52.4 | 33.5 | 46.0 | 51.53361 | 29.6 | 4333602 | 180.671 | 50 | 51 |\n| 2 | 1961 | 20.6 |  9361 | 47.4 | 33.0 | 45.1 | 51.86824 | 29.9 | 4944130 | 183.691 | 49 | 52 |\n| 3 | 1962 | 20.6 |  9666 | 50.0 | 34.2 | 44.8 | 52.09133 | 30.2 | 4997189 | 186.538 | 46 | 53 |\n| 4 | 1963 | 21.1 |  9886 | 49.3 | 33.8 | 49.8 | 50.97588 | 30.6 | 5269019 | 189.242 | 80 | 54 |\n| 5 | 1964 | 21.3 | 10456 | 48.2 | 32.8 | 49.9 | 50.75279 | 31.0 | 5443769 | 191.889 | 78 | 55 |\n| 6 | 1965 | 22.9 | 10965 | 49.8 | 34.4 | 51.8 | 50.97588 | 31.5 | 5871560 | 194.303 | 49 | 56 |\n| 7 | 1966 | 24.5 | 11417 | 52.7 | 36.2 | 54.5 | 52.48173 | 32.4 | 6437127 | 196.560 | 44 | 57 |\n| 8 | 1967 | 25.1 | 11776 | 48.8 | 36.4 | 51.7 | 51.86824 | 33.4 | 6552305 | 198.712 | 45 | 58 |\n| 9 | 1968 | 25.2 | 12196 | 51.2 | 37.9 | 45.5 | 49.52580 | 34.8 | 6653319 | 200.706 | 59 | 59 |\n| 10 | 1969 | 26.3 | 12451 | 54.1 | 41.7 | 49.3 | 50.36239 | 36.7 | 7174882 | 202.677 | 87 | 60 |\n\n",
            "text/latex": "A data.frame: 10 × 12\n\\begin{tabular}{r|llllllllllll}\n  & YEAR & Q & Y & PCHICK & PBEEF & PCOR & PF & CPI & QPRODA & POP & MEATEX & TIME\\\\\n  & <int> & <dbl> & <int> & <dbl> & <dbl> & <dbl> & <dbl> & <dbl> & <int> & <dbl> & <int> & <int>\\\\\n\\hline\n\t1 & 1960 & 19.2 &  9210 & 52.4 & 33.5 & 46.0 & 51.53361 & 29.6 & 4333602 & 180.671 & 50 & 51\\\\\n\t2 & 1961 & 20.6 &  9361 & 47.4 & 33.0 & 45.1 & 51.86824 & 29.9 & 4944130 & 183.691 & 49 & 52\\\\\n\t3 & 1962 & 20.6 &  9666 & 50.0 & 34.2 & 44.8 & 52.09133 & 30.2 & 4997189 & 186.538 & 46 & 53\\\\\n\t4 & 1963 & 21.1 &  9886 & 49.3 & 33.8 & 49.8 & 50.97588 & 30.6 & 5269019 & 189.242 & 80 & 54\\\\\n\t5 & 1964 & 21.3 & 10456 & 48.2 & 32.8 & 49.9 & 50.75279 & 31.0 & 5443769 & 191.889 & 78 & 55\\\\\n\t6 & 1965 & 22.9 & 10965 & 49.8 & 34.4 & 51.8 & 50.97588 & 31.5 & 5871560 & 194.303 & 49 & 56\\\\\n\t7 & 1966 & 24.5 & 11417 & 52.7 & 36.2 & 54.5 & 52.48173 & 32.4 & 6437127 & 196.560 & 44 & 57\\\\\n\t8 & 1967 & 25.1 & 11776 & 48.8 & 36.4 & 51.7 & 51.86824 & 33.4 & 6552305 & 198.712 & 45 & 58\\\\\n\t9 & 1968 & 25.2 & 12196 & 51.2 & 37.9 & 45.5 & 49.52580 & 34.8 & 6653319 & 200.706 & 59 & 59\\\\\n\t10 & 1969 & 26.3 & 12451 & 54.1 & 41.7 & 49.3 & 50.36239 & 36.7 & 7174882 & 202.677 & 87 & 60\\\\\n\\end{tabular}\n",
            "text/plain": [
              "   YEAR Q    Y     PCHICK PBEEF PCOR PF       CPI  QPRODA  POP     MEATEX TIME\n",
              "1  1960 19.2  9210 52.4   33.5  46.0 51.53361 29.6 4333602 180.671 50     51  \n",
              "2  1961 20.6  9361 47.4   33.0  45.1 51.86824 29.9 4944130 183.691 49     52  \n",
              "3  1962 20.6  9666 50.0   34.2  44.8 52.09133 30.2 4997189 186.538 46     53  \n",
              "4  1963 21.1  9886 49.3   33.8  49.8 50.97588 30.6 5269019 189.242 80     54  \n",
              "5  1964 21.3 10456 48.2   32.8  49.9 50.75279 31.0 5443769 191.889 78     55  \n",
              "6  1965 22.9 10965 49.8   34.4  51.8 50.97588 31.5 5871560 194.303 49     56  \n",
              "7  1966 24.5 11417 52.7   36.2  54.5 52.48173 32.4 6437127 196.560 44     57  \n",
              "8  1967 25.1 11776 48.8   36.4  51.7 51.86824 33.4 6552305 198.712 45     58  \n",
              "9  1968 25.2 12196 51.2   37.9  45.5 49.52580 34.8 6653319 200.706 59     59  \n",
              "10 1969 26.3 12451 54.1   41.7  49.3 50.36239 36.7 7174882 202.677 87     60  "
            ]
          },
          "metadata": {}
        }
      ]
    },
    {
      "cell_type": "markdown",
      "source": [
        "Veja os últimos 10 elementos da base de dados:"
      ],
      "metadata": {
        "id": "rgaQV4Q_01SY"
      }
    },
    {
      "cell_type": "code",
      "source": [
        "tail(dat,10)"
      ],
      "metadata": {
        "id": "IW51MwJtQDl6",
        "outputId": "8c3e6ec0-fd0f-466f-8644-801d8ec04625",
        "colab": {
          "base_uri": "https://localhost:8080/",
          "height": 412
        }
      },
      "execution_count": 13,
      "outputs": [
        {
          "output_type": "display_data",
          "data": {
            "text/html": [
              "<table class=\"dataframe\">\n",
              "<caption>A data.frame: 10 × 12</caption>\n",
              "<thead>\n",
              "\t<tr><th></th><th scope=col>YEAR</th><th scope=col>Q</th><th scope=col>Y</th><th scope=col>PCHICK</th><th scope=col>PBEEF</th><th scope=col>PCOR</th><th scope=col>PF</th><th scope=col>CPI</th><th scope=col>QPRODA</th><th scope=col>POP</th><th scope=col>MEATEX</th><th scope=col>TIME</th></tr>\n",
              "\t<tr><th></th><th scope=col>&lt;int&gt;</th><th scope=col>&lt;dbl&gt;</th><th scope=col>&lt;int&gt;</th><th scope=col>&lt;dbl&gt;</th><th scope=col>&lt;dbl&gt;</th><th scope=col>&lt;dbl&gt;</th><th scope=col>&lt;dbl&gt;</th><th scope=col>&lt;dbl&gt;</th><th scope=col>&lt;int&gt;</th><th scope=col>&lt;dbl&gt;</th><th scope=col>&lt;int&gt;</th><th scope=col>&lt;int&gt;</th></tr>\n",
              "</thead>\n",
              "<tbody>\n",
              "\t<tr><th scope=row>31</th><td>1990</td><td>42.4</td><td>20058</td><td>134.9</td><td>128.8</td><td>100.9</td><td>130.9534</td><td>130.7</td><td>18429897</td><td>249.973</td><td> 564</td><td>81</td></tr>\n",
              "\t<tr><th scope=row>32</th><td>1991</td><td>44.1</td><td>19873</td><td>131.7</td><td>132.4</td><td> 97.0</td><td>126.6589</td><td>136.2</td><td>19591105</td><td>253.336</td><td> 667</td><td>82</td></tr>\n",
              "\t<tr><th scope=row>33</th><td>1992</td><td>46.5</td><td>20220</td><td>131.9</td><td>132.3</td><td> 96.0</td><td>125.3761</td><td>140.3</td><td>20903765</td><td>256.677</td><td> 786</td><td>83</td></tr>\n",
              "\t<tr><th scope=row>34</th><td>1993</td><td>48.2</td><td>20235</td><td>138.0</td><td>137.1</td><td> 92.9</td><td>131.3995</td><td>144.5</td><td>22014911</td><td>260.037</td><td> 780</td><td>84</td></tr>\n",
              "\t<tr><th scope=row>35</th><td>1994</td><td>48.8</td><td>20507</td><td>140.1</td><td>136.0</td><td>100.1</td><td>136.4748</td><td>148.2</td><td>23666035</td><td>263.226</td><td> 980</td><td>85</td></tr>\n",
              "\t<tr><th scope=row>36</th><td>1995</td><td>48.2</td><td>20798</td><td>142.2</td><td>134.9</td><td>109.0</td><td>138.4826</td><td>152.4</td><td>24827130</td><td>266.364</td><td>1183</td><td>86</td></tr>\n",
              "\t<tr><th scope=row>37</th><td>1996</td><td>48.8</td><td>21072</td><td>152.6</td><td>134.5</td><td>158.5</td><td>174.3442</td><td>156.9</td><td>26123767</td><td>269.485</td><td>1291</td><td>87</td></tr>\n",
              "\t<tr><th scope=row>38</th><td>1997</td><td>49.5</td><td>21470</td><td>158.5</td><td>136.8</td><td>110.1</td><td>157.7798</td><td>160.5</td><td>27041394</td><td>272.756</td><td>1443</td><td>88</td></tr>\n",
              "\t<tr><th scope=row>39</th><td>1998</td><td>49.8</td><td>22359</td><td>159.6</td><td>136.5</td><td> 91.7</td><td>128.9456</td><td>163.0</td><td>27612361</td><td>275.955</td><td>1543</td><td>89</td></tr>\n",
              "\t<tr><th scope=row>40</th><td>1999</td><td>52.9</td><td>22678</td><td>161.8</td><td>139.2</td><td> 78.2</td><td>102.8999</td><td>166.6</td><td>29741381</td><td>279.144</td><td>1674</td><td>90</td></tr>\n",
              "</tbody>\n",
              "</table>\n"
            ],
            "text/markdown": "\nA data.frame: 10 × 12\n\n| <!--/--> | YEAR &lt;int&gt; | Q &lt;dbl&gt; | Y &lt;int&gt; | PCHICK &lt;dbl&gt; | PBEEF &lt;dbl&gt; | PCOR &lt;dbl&gt; | PF &lt;dbl&gt; | CPI &lt;dbl&gt; | QPRODA &lt;int&gt; | POP &lt;dbl&gt; | MEATEX &lt;int&gt; | TIME &lt;int&gt; |\n|---|---|---|---|---|---|---|---|---|---|---|---|---|\n| 31 | 1990 | 42.4 | 20058 | 134.9 | 128.8 | 100.9 | 130.9534 | 130.7 | 18429897 | 249.973 |  564 | 81 |\n| 32 | 1991 | 44.1 | 19873 | 131.7 | 132.4 |  97.0 | 126.6589 | 136.2 | 19591105 | 253.336 |  667 | 82 |\n| 33 | 1992 | 46.5 | 20220 | 131.9 | 132.3 |  96.0 | 125.3761 | 140.3 | 20903765 | 256.677 |  786 | 83 |\n| 34 | 1993 | 48.2 | 20235 | 138.0 | 137.1 |  92.9 | 131.3995 | 144.5 | 22014911 | 260.037 |  780 | 84 |\n| 35 | 1994 | 48.8 | 20507 | 140.1 | 136.0 | 100.1 | 136.4748 | 148.2 | 23666035 | 263.226 |  980 | 85 |\n| 36 | 1995 | 48.2 | 20798 | 142.2 | 134.9 | 109.0 | 138.4826 | 152.4 | 24827130 | 266.364 | 1183 | 86 |\n| 37 | 1996 | 48.8 | 21072 | 152.6 | 134.5 | 158.5 | 174.3442 | 156.9 | 26123767 | 269.485 | 1291 | 87 |\n| 38 | 1997 | 49.5 | 21470 | 158.5 | 136.8 | 110.1 | 157.7798 | 160.5 | 27041394 | 272.756 | 1443 | 88 |\n| 39 | 1998 | 49.8 | 22359 | 159.6 | 136.5 |  91.7 | 128.9456 | 163.0 | 27612361 | 275.955 | 1543 | 89 |\n| 40 | 1999 | 52.9 | 22678 | 161.8 | 139.2 |  78.2 | 102.8999 | 166.6 | 29741381 | 279.144 | 1674 | 90 |\n\n",
            "text/latex": "A data.frame: 10 × 12\n\\begin{tabular}{r|llllllllllll}\n  & YEAR & Q & Y & PCHICK & PBEEF & PCOR & PF & CPI & QPRODA & POP & MEATEX & TIME\\\\\n  & <int> & <dbl> & <int> & <dbl> & <dbl> & <dbl> & <dbl> & <dbl> & <int> & <dbl> & <int> & <int>\\\\\n\\hline\n\t31 & 1990 & 42.4 & 20058 & 134.9 & 128.8 & 100.9 & 130.9534 & 130.7 & 18429897 & 249.973 &  564 & 81\\\\\n\t32 & 1991 & 44.1 & 19873 & 131.7 & 132.4 &  97.0 & 126.6589 & 136.2 & 19591105 & 253.336 &  667 & 82\\\\\n\t33 & 1992 & 46.5 & 20220 & 131.9 & 132.3 &  96.0 & 125.3761 & 140.3 & 20903765 & 256.677 &  786 & 83\\\\\n\t34 & 1993 & 48.2 & 20235 & 138.0 & 137.1 &  92.9 & 131.3995 & 144.5 & 22014911 & 260.037 &  780 & 84\\\\\n\t35 & 1994 & 48.8 & 20507 & 140.1 & 136.0 & 100.1 & 136.4748 & 148.2 & 23666035 & 263.226 &  980 & 85\\\\\n\t36 & 1995 & 48.2 & 20798 & 142.2 & 134.9 & 109.0 & 138.4826 & 152.4 & 24827130 & 266.364 & 1183 & 86\\\\\n\t37 & 1996 & 48.8 & 21072 & 152.6 & 134.5 & 158.5 & 174.3442 & 156.9 & 26123767 & 269.485 & 1291 & 87\\\\\n\t38 & 1997 & 49.5 & 21470 & 158.5 & 136.8 & 110.1 & 157.7798 & 160.5 & 27041394 & 272.756 & 1443 & 88\\\\\n\t39 & 1998 & 49.8 & 22359 & 159.6 & 136.5 &  91.7 & 128.9456 & 163.0 & 27612361 & 275.955 & 1543 & 89\\\\\n\t40 & 1999 & 52.9 & 22678 & 161.8 & 139.2 &  78.2 & 102.8999 & 166.6 & 29741381 & 279.144 & 1674 & 90\\\\\n\\end{tabular}\n",
            "text/plain": [
              "   YEAR Q    Y     PCHICK PBEEF PCOR  PF       CPI   QPRODA   POP     MEATEX\n",
              "31 1990 42.4 20058 134.9  128.8 100.9 130.9534 130.7 18429897 249.973  564  \n",
              "32 1991 44.1 19873 131.7  132.4  97.0 126.6589 136.2 19591105 253.336  667  \n",
              "33 1992 46.5 20220 131.9  132.3  96.0 125.3761 140.3 20903765 256.677  786  \n",
              "34 1993 48.2 20235 138.0  137.1  92.9 131.3995 144.5 22014911 260.037  780  \n",
              "35 1994 48.8 20507 140.1  136.0 100.1 136.4748 148.2 23666035 263.226  980  \n",
              "36 1995 48.2 20798 142.2  134.9 109.0 138.4826 152.4 24827130 266.364 1183  \n",
              "37 1996 48.8 21072 152.6  134.5 158.5 174.3442 156.9 26123767 269.485 1291  \n",
              "38 1997 49.5 21470 158.5  136.8 110.1 157.7798 160.5 27041394 272.756 1443  \n",
              "39 1998 49.8 22359 159.6  136.5  91.7 128.9456 163.0 27612361 275.955 1543  \n",
              "40 1999 52.9 22678 161.8  139.2  78.2 102.8999 166.6 29741381 279.144 1674  \n",
              "   TIME\n",
              "31 81  \n",
              "32 82  \n",
              "33 83  \n",
              "34 84  \n",
              "35 85  \n",
              "36 86  \n",
              "37 87  \n",
              "38 88  \n",
              "39 89  \n",
              "40 90  "
            ]
          },
          "metadata": {}
        }
      ]
    },
    {
      "cell_type": "markdown",
      "source": [
        "Veja a estrutura dos dados:"
      ],
      "metadata": {
        "id": "bcNTqVkO0_pW"
      }
    },
    {
      "cell_type": "code",
      "source": [
        "str(dat)    #Estrurura da tabela (status dos dados)"
      ],
      "metadata": {
        "id": "HtVYfrCTxRoh",
        "outputId": "ff49b4e6-4cfb-4ac6-83a5-a63bf7244b6c",
        "colab": {
          "base_uri": "https://localhost:8080/"
        }
      },
      "execution_count": 17,
      "outputs": [
        {
          "output_type": "stream",
          "name": "stdout",
          "text": [
            "'data.frame':\t40 obs. of  12 variables:\n",
            " $ YEAR  : int  1960 1961 1962 1963 1964 1965 1966 1967 1968 1969 ...\n",
            " $ Q     : num  19.2 20.6 20.6 21.1 21.3 22.9 24.5 25.1 25.2 26.3 ...\n",
            " $ Y     : int  9210 9361 9666 9886 10456 10965 11417 11776 12196 12451 ...\n",
            " $ PCHICK: num  52.4 47.4 50 49.3 48.2 49.8 52.7 48.8 51.2 54.1 ...\n",
            " $ PBEEF : num  33.5 33 34.2 33.8 32.8 34.4 36.2 36.4 37.9 41.7 ...\n",
            " $ PCOR  : num  46 45.1 44.8 49.8 49.9 51.8 54.5 51.7 45.5 49.3 ...\n",
            " $ PF    : num  51.5 51.9 52.1 51 50.8 ...\n",
            " $ CPI   : num  29.6 29.9 30.2 30.6 31 31.5 32.4 33.4 34.8 36.7 ...\n",
            " $ QPRODA: int  4333602 4944130 4997189 5269019 5443769 5871560 6437127 6552305 6653319 7174882 ...\n",
            " $ POP   : num  181 184 187 189 192 ...\n",
            " $ MEATEX: int  50 49 46 80 78 49 44 45 59 87 ...\n",
            " $ TIME  : int  51 52 53 54 55 56 57 58 59 60 ...\n"
          ]
        }
      ]
    },
    {
      "cell_type": "markdown",
      "source": [
        "Variáveis:\n",
        "\n",
        "* YEAR: ano\n",
        "* Q: quantidade de frango grelhado ('broiled chicken')\n",
        "* Y: renda disponível real per capita\n",
        "* PCHICK: Preço do frango grelhado ('broiled chicken')\n",
        "* PBEEF: preço da carne bovina\n",
        "* PCOR: preço do milho\n",
        "* PF: preço da ração do frango\n",
        "* CPI: índice de inflação ao conumidor\n",
        "* QPRODUA: quantidade agregada de frango\n",
        "* POP: população dos EUA\n",
        "* MEATEX: quantidade exportada de carne bovina, vitela e suína em libras"
      ],
      "metadata": {
        "id": "SeBDTMnJn_go"
      }
    },
    {
      "cell_type": "markdown",
      "source": [
        "# Preço vs Quantidade"
      ],
      "metadata": {
        "id": "Jb0uJXIZQQju"
      }
    },
    {
      "cell_type": "markdown",
      "source": [
        "### Visualização dos dados"
      ],
      "metadata": {
        "id": "vkkhCwShn5dZ"
      }
    },
    {
      "cell_type": "markdown",
      "source": [
        "Faça um gráfico de dispersão entre a quantidade (Q) e o preço (PCHICK):"
      ],
      "metadata": {
        "id": "LjOGFWG11Mjz"
      }
    },
    {
      "cell_type": "code",
      "source": [
        "library(ggplot2)"
      ],
      "metadata": {
        "id": "PRliRsrt1rMh"
      },
      "execution_count": 18,
      "outputs": []
    },
    {
      "cell_type": "code",
      "source": [
        "# Suponha que os dados estejam em um data frame chamado \"dados\"\n",
        "# Exemplo de dados:\n",
        "# dados <- data.frame(\n",
        "#   YEAR = c(2000, 2001, 2002, ...),\n",
        "#   Q = c(100, 120, 140, ...),\n",
        "#   PCHICK = c(2.5, 2.7, 2.8, ...)\n",
        "# )\n",
        "\n",
        "# Criar o gráfico de dispersão\n",
        "ggplot(dat, aes(x = Q, y = PCHICK)) +\n",
        "  geom_point(color = \"blue\") +\n",
        "  geom_smooth(method = \"lm\", color = \"red\", se = FALSE) +\n",
        "  labs(title = \"Relação entre Quantidade e Preço de Frango Grelhado\",\n",
        "       y = \"Preço do Frango Grelhado (PCHICK)\",\n",
        "       x = \"Quantidade de Frango Grelhado (Q)\") +\n",
        "  theme_minimal()\n"
      ],
      "metadata": {
        "id": "tXMxxs-5PmCW",
        "outputId": "e8ca550e-a7f2-4aee-ec54-f4ce47b1bd08",
        "colab": {
          "base_uri": "https://localhost:8080/",
          "height": 454
        }
      },
      "execution_count": 29,
      "outputs": [
        {
          "output_type": "stream",
          "name": "stderr",
          "text": [
            "\u001b[1m\u001b[22m`geom_smooth()` using formula = 'y ~ x'\n"
          ]
        },
        {
          "output_type": "display_data",
          "data": {
            "text/plain": [
              "plot without title"
            ],
            "image/png": "[encoded data removed]"
          },
          "metadata": {
            "image/png": {
              "width": 420,
              "height": 420
            }
          }
        }
      ]
    },
    {
      "cell_type": "markdown",
      "source": [
        "## Modelo de regressão linear"
      ],
      "metadata": {
        "id": "0rFz_45XuPFY"
      }
    },
    {
      "cell_type": "markdown",
      "source": [
        "Vamos estimar a regressão abaixo:\n",
        "\n",
        "\\begin{equation}\n",
        "\\ln \\big[ Q \\big]_i = \\beta_0 + \\beta_1 \\ln \\big[ PCHICK \\big]_i + \\epsilon_i\n",
        "\\end{equation}\n",
        "\n"
      ],
      "metadata": {
        "id": "Eiu0Cfu7x14C"
      }
    },
    {
      "cell_type": "code",
      "source": [],
      "metadata": {
        "id": "zqTQIoyLuPFi"
      },
      "execution_count": null,
      "outputs": []
    },
    {
      "cell_type": "code",
      "source": [],
      "metadata": {
        "id": "rHkA8eCoubcF"
      },
      "execution_count": null,
      "outputs": []
    },
    {
      "cell_type": "code",
      "source": [],
      "metadata": {
        "id": "b7y4wTu_ud6K"
      },
      "execution_count": null,
      "outputs": []
    },
    {
      "cell_type": "markdown",
      "source": [
        "Qual é a conclusão que obtemos?"
      ],
      "metadata": {
        "id": "18BQIZvZqdlj"
      }
    },
    {
      "cell_type": "markdown",
      "source": [
        "## Modelo de regressão com variáveis instrumentais"
      ],
      "metadata": {
        "id": "k5TYIw-gTjht"
      }
    },
    {
      "cell_type": "markdown",
      "source": [
        "### [1] Primeiro estágio"
      ],
      "metadata": {
        "id": "nzzYcWKizudJ"
      }
    },
    {
      "cell_type": "markdown",
      "source": [
        "\n",
        "\n",
        "Vamos estimar a regressão abaixo:\n",
        "\n",
        "\\begin{equation}\n",
        "PCHICK_i = \\beta_0 + \\beta_1 PF_i + \\beta_2 PCOR_i + v_i.\n",
        "\\end{equation}"
      ],
      "metadata": {
        "id": "0sz33f94rQOp"
      }
    },
    {
      "cell_type": "code",
      "source": [],
      "metadata": {
        "id": "JdoOOCJRVbQL"
      },
      "execution_count": null,
      "outputs": []
    },
    {
      "cell_type": "code",
      "source": [],
      "metadata": {
        "id": "O_4L5lR_VbQL"
      },
      "execution_count": null,
      "outputs": []
    },
    {
      "cell_type": "code",
      "source": [],
      "metadata": {
        "id": "HKKq5LgfTh7x"
      },
      "execution_count": null,
      "outputs": []
    },
    {
      "cell_type": "markdown",
      "source": [
        "Será que o instrumento é relevante?"
      ],
      "metadata": {
        "id": "iFTSzwtls_ML"
      }
    },
    {
      "cell_type": "markdown",
      "source": [
        "Agora, vamos criar uma previsão (o fit do modelo) com base na regressão anterior. Vamos utilizar a função 'predict', na qual criamos uma variável com 'predict( modelo )', onde 'modelo' é o nome do modelo que queremos utilizar (no nosso caso, o modelo anterior)."
      ],
      "metadata": {
        "id": "UDkiBq7Jy1mj"
      }
    },
    {
      "cell_type": "code",
      "source": [],
      "metadata": {
        "id": "KuPRjQmSsbDb"
      },
      "execution_count": null,
      "outputs": []
    },
    {
      "cell_type": "markdown",
      "source": [
        "Adicione a variável acima à base de dados 'dat'."
      ],
      "metadata": {
        "id": "wCxvM7Bn1aCD"
      }
    },
    {
      "cell_type": "code",
      "source": [],
      "metadata": {
        "id": "oUm2L8RGuTx6"
      },
      "execution_count": null,
      "outputs": []
    },
    {
      "cell_type": "markdown",
      "source": [
        "### [2] Segundo estágio (sem controles)"
      ],
      "metadata": {
        "id": "WsiLp_u2zziB"
      }
    },
    {
      "cell_type": "markdown",
      "source": [
        "Vamos estimar a regressão abaixo:\n",
        "\n",
        "\\begin{equation}\n",
        "\\ln \\big[ Q \\big]_i = \\beta_0 + \\beta_1 \\ln \\big[ \\hat{PCHICK} \\big]_i + u_i.\n",
        "\\end{equation}"
      ],
      "metadata": {
        "id": "aqHxOJCatohR"
      }
    },
    {
      "cell_type": "code",
      "source": [],
      "metadata": {
        "id": "4sRUfTPFuMo8"
      },
      "execution_count": null,
      "outputs": []
    },
    {
      "cell_type": "code",
      "source": [],
      "metadata": {
        "id": "Z5XcaZOQuaP1"
      },
      "execution_count": null,
      "outputs": []
    },
    {
      "cell_type": "code",
      "source": [],
      "metadata": {
        "id": "cpFlDq5fuaP1"
      },
      "execution_count": null,
      "outputs": []
    },
    {
      "cell_type": "markdown",
      "source": [
        "### [3] Segundo estágio (alguns controles):"
      ],
      "metadata": {
        "id": "W4-L7QvMz36H"
      }
    },
    {
      "cell_type": "markdown",
      "source": [
        "\n",
        "\n",
        "\\begin{equation}\n",
        "\\ln \\big[ Q \\big]_i = \\beta_0 + \\beta_1 * \\ln \\big[ \\hat{PCHICK} \\big]_i + \\beta_2 \\ln \\big[ Y \\big]_i  + \\beta_3 PBEEF_i + \\varepsilon_i.\n",
        "\\end{equation}"
      ],
      "metadata": {
        "id": "HvynYYkFzXfi"
      }
    },
    {
      "cell_type": "code",
      "source": [],
      "metadata": {
        "id": "_2omKPYAzXfr"
      },
      "execution_count": null,
      "outputs": []
    },
    {
      "cell_type": "code",
      "source": [],
      "metadata": {
        "id": "VO92qUCjzXfr"
      },
      "execution_count": null,
      "outputs": []
    },
    {
      "cell_type": "code",
      "source": [],
      "metadata": {
        "id": "AScLCdtOzXfr"
      },
      "execution_count": null,
      "outputs": []
    },
    {
      "cell_type": "markdown",
      "source": [
        "### [4] Segundo estágio (modelo completo):"
      ],
      "metadata": {
        "id": "zyxixcD2z9mk"
      }
    },
    {
      "cell_type": "markdown",
      "source": [
        "\\begin{equation}\n",
        "\\ln \\big[ Q \\big]_i = \\beta_0 + \\beta_1 * \\ln \\big[ \\hat{PCHICK} \\big]_i + \\beta_2 \\ln \\big[ Y \\big]_i  + \\beta_3 \\ln \\big[ CPI \\big]_i + \\beta_4 PBEEF_i + \\beta_4 POP_i + \\varepsilon_i.\n",
        "\\end{equation}"
      ],
      "metadata": {
        "id": "ShnMuFTdumqK"
      }
    },
    {
      "cell_type": "code",
      "source": [],
      "metadata": {
        "id": "aiCydcnoukDE"
      },
      "execution_count": null,
      "outputs": []
    },
    {
      "cell_type": "code",
      "source": [],
      "metadata": {
        "id": "lcAajUAkukDL"
      },
      "execution_count": null,
      "outputs": []
    },
    {
      "cell_type": "code",
      "source": [],
      "metadata": {
        "id": "ezqMtNnkukDL"
      },
      "execution_count": null,
      "outputs": []
    }
  ]
}